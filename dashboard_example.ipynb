{
 "cells": [
  {
   "cell_type": "markdown",
   "metadata": {
    "extensions": {
     "jupyter_dashboards": {
      "version": 1,
      "views": {
       "grid_default": {
        "col": 0,
        "height": 4,
        "hidden": false,
        "row": 0,
        "width": 12
       },
       "report_default": {
        "hidden": false
       }
      }
     }
    }
   },
   "source": [
    "# Archive statistics\n",
    "## Completeness"
   ]
  },
  {
   "cell_type": "code",
   "execution_count": null,
   "metadata": {
    "collapsed": true,
    "extensions": {
     "jupyter_dashboards": {
      "version": 1,
      "views": {
       "grid_default": {
        "hidden": true
       },
       "report_default": {
        "hidden": true
       }
      }
     }
    }
   },
   "outputs": [],
   "source": [
    "import ipywidgets as widgets\n",
    "widgets.Widget.widget_types\n",
    "import requests\n",
    "import geopy\n",
    "import pandas as pd\n",
    "from IPython.display import display\n",
    "%matplotlib inline\n",
    "\n",
    "import seaborn as sns\n",
    "import plotly\n",
    "from ipywidgets import interact\n",
    "\n",
    "import folium\n",
    "\n",
    "from geopy.geocoders import Nominatim\n",
    "geolocator = Nominatim()\n",
    "\n",
    "from IPython.display import clear_output\n",
    "\n",
    "import json"
   ]
  },
  {
   "cell_type": "code",
   "execution_count": null,
   "metadata": {
    "collapsed": true,
    "extensions": {
     "jupyter_dashboards": {
      "version": 1,
      "views": {
       "grid_default": {
        "hidden": true
       },
       "report_default": {
        "hidden": true
       }
      }
     }
    }
   },
   "outputs": [],
   "source": [
    "from __future__ import print_function\n",
    "\n",
    "from ipyleaflet import (\n",
    "    Map,\n",
    "    Marker,\n",
    "    TileLayer, ImageOverlay,\n",
    "    Polyline, Polygon, Rectangle, Circle, CircleMarker,\n",
    "    GeoJSON,\n",
    "    DrawControl\n",
    ")\n",
    "\n",
    "from traitlets import link"
   ]
  },
  {
   "cell_type": "code",
   "execution_count": null,
   "metadata": {
    "collapsed": false,
    "extensions": {
     "jupyter_dashboards": {
      "version": 1,
      "views": {
       "grid_default": {
        "col": 0,
        "height": 4,
        "hidden": false,
        "row": 30,
        "width": 4
       },
       "report_default": {
        "hidden": true
       }
      }
     }
    }
   },
   "outputs": [],
   "source": [
    "aoi_picker = widgets.Text(value='Canberra',placeholder='update this field',\n",
    "    description='placename search',\n",
    "    disabled=False)\n",
    "def handle_submit(sender):\n",
    "    global location\n",
    "    global center\n",
    "    location = geolocator.geocode(aoi_picker.value)\n",
    "    center = [location.latitude, location.longitude]\n",
    "    print(center)\n",
    "aoi_picker.on_submit(handle_submit)"
   ]
  },
  {
   "cell_type": "code",
   "execution_count": null,
   "metadata": {
    "collapsed": false,
    "extensions": {
     "jupyter_dashboards": {
      "version": 1,
      "views": {
       "grid_default": {
        "col": 8,
        "height": 4,
        "hidden": false,
        "row": 32,
        "width": 4
       },
       "report_default": {
        "hidden": true
       }
      }
     }
    }
   },
   "outputs": [],
   "source": [
    "from_date_picker = widgets.Text(value='2000-12-31',placeholder='update this field',\n",
    "    description='start date',\n",
    "    disabled=False)\n",
    "def handle_from_date(sender):\n",
    "    print(from_date_picker.value)\n",
    "from_date_picker.on_submit(handle_from_date)"
   ]
  },
  {
   "cell_type": "code",
   "execution_count": null,
   "metadata": {
    "collapsed": false,
    "extensions": {
     "jupyter_dashboards": {
      "version": 1,
      "views": {
       "grid_default": {
        "col": 5,
        "height": 4,
        "hidden": false,
        "row": 43,
        "width": 4
       },
       "report_default": {
        "hidden": true
       }
      }
     }
    }
   },
   "outputs": [],
   "source": [
    "to_date_picker = widgets.Text(value='2001-01-01',placeholder='update this field',\n",
    "    description='end date',\n",
    "    disabled=False)\n",
    "def handle_to_date(sender):\n",
    "    print(to_date_picker.value)\n",
    "to_date_picker.on_submit(handle_to_date)"
   ]
  },
  {
   "cell_type": "code",
   "execution_count": null,
   "metadata": {
    "collapsed": false,
    "extensions": {
     "jupyter_dashboards": {
      "version": 1,
      "views": {
       "grid_default": {
        "hidden": true
       },
       "report_default": {
        "hidden": true
       }
      }
     }
    }
   },
   "outputs": [],
   "source": [
    "product_picker = widgets.SelectMultiple(\n",
    "    options=['nbar_albers','nbart_albers', 'pq_albers','fc', 'water'],\n",
    "    description='product:',\n",
    "    disabled=False\n",
    ")"
   ]
  },
  {
   "cell_type": "code",
   "execution_count": null,
   "metadata": {
    "collapsed": false,
    "extensions": {
     "jupyter_dashboards": {
      "version": 1,
      "views": {
       "grid_default": {
        "col": 0,
        "height": 6,
        "hidden": false,
        "row": 34,
        "width": 2
       },
       "report_default": {
        "hidden": true
       }
      }
     }
    }
   },
   "outputs": [],
   "source": [
    "sensor_picker =widgets.SelectMultiple(\n",
    "    options=['ls5','ls7', 'ls8_oli','ls8'],\n",
    "    description='sensor:',\n",
    "    disabled=False\n",
    ")"
   ]
  },
  {
   "cell_type": "code",
   "execution_count": null,
   "metadata": {
    "collapsed": false,
    "extensions": {
     "jupyter_dashboards": {
      "version": 1,
      "views": {
       "grid_default": {
        "col": 0,
        "height": 22,
        "hidden": false,
        "row": 8,
        "width": 4
       },
       "report_default": {
        "hidden": false
       }
      }
     }
    }
   },
   "outputs": [],
   "source": [
    "accordion = widgets.Accordion(children=[product_picker, sensor_picker, from_date_picker, to_date_picker, aoi_picker])\n",
    "accordion.set_title(0, 'product')\n",
    "accordion.set_title(1, 'sensor')\n",
    "accordion.set_title(2, 'from date')\n",
    "accordion.set_title(3, 'to date')\n",
    "accordion.set_title(4, 'placename')\n",
    "accordion"
   ]
  },
  {
   "cell_type": "code",
   "execution_count": null,
   "metadata": {
    "collapsed": false,
    "extensions": {
     "jupyter_dashboards": {
      "version": 1,
      "views": {
       "grid_default": {
        "col": 4,
        "height": 12,
        "hidden": false,
        "row": 8,
        "width": 8
       },
       "report_default": {
        "hidden": false
       }
      }
     }
    }
   },
   "outputs": [],
   "source": [
    "# initialise the DrawControl to capture the geometry\n",
    "update_map = widgets.Button(description=\"Update map on click\")\n",
    "def update_map_clicked(button):\n",
    "    \n",
    "    global dc\n",
    "    dc = DrawControl(polygon={'shapeOptions': {'color': '#0000FF'}}, polyline={'shapeOptions': {'color': '#00FF00'}},\n",
    "                  circle={'shapeOptions': {'color': '#0000FF'}}, rectangle={'shapeOptions': {'color': '#0000FF'}})\n",
    "    # add the DrawControl to the map\n",
    "    global m\n",
    "    m = Map(center=center, zoom=zoom)\n",
    "    m.add_control(dc)\n",
    "    display(m)\n",
    "display(update_map)\n",
    "update_map.on_click(update_map_clicked)"
   ]
  },
  {
   "cell_type": "code",
   "execution_count": null,
   "metadata": {
    "collapsed": false,
    "extensions": {
     "jupyter_dashboards": {
      "version": 1,
      "views": {
       "grid_default": {
        "col": 8,
        "height": 7,
        "hidden": false,
        "row": 36,
        "width": 4
       },
       "report_default": {
        "hidden": false
       }
      }
     }
    }
   },
   "outputs": [],
   "source": [
    "button = widgets.Button(description=\"Generate Report\")\n",
    "def on_button_clicked(button):\n",
    "    print('Generating your report now, hold onto your shorts')\n",
    "\n",
    "    print(product_picker.value, sensor_picker.value, from_date_picker.value, to_date_picker.value, dc.last_draw['geometry'])\n",
    "\n",
    "display(button)\n",
    "button.on_click(on_button_clicked)"
   ]
  },
  {
   "cell_type": "code",
   "execution_count": null,
   "metadata": {
    "collapsed": false,
    "extensions": {
     "jupyter_dashboards": {
      "version": 1,
      "views": {
       "grid_default": {
        "col": 0,
        "height": 4,
        "hidden": false,
        "row": 4,
        "width": 12
       },
       "report_default": {
        "hidden": false
       }
      }
     }
    }
   },
   "outputs": [],
   "source": [
    "list = ['P0', 'P1', 'P2', 'P3', 'P4']\n",
    "children = [accordion,update_map]\n",
    "print(children)\n",
    "tab = widgets.Tab(children=children)\n",
    "tab"
   ]
  },
  {
   "cell_type": "code",
   "execution_count": null,
   "metadata": {
    "collapsed": false,
    "extensions": {
     "jupyter_dashboards": {
      "version": 1,
      "views": {
       "grid_default": {
        "hidden": true
       },
       "report_default": {
        "hidden": true
       }
      }
     }
    }
   },
   "outputs": [],
   "source": [
    "ul_lon, ul_lat = 77.83, 17.84 # upper left longitude, latitude\n",
    "lr_lon, lr_lat = 78.00, 17.67 # lower right longitude, latitude\n",
    "date_start, date_end = from_date_picker.value, to_date_picker.value  # start date and end date for time range selection  \n",
    "sensor_list=[\"olitirs8\", \"tm5\", \"etm7\"] # list of sensors to use\n",
    "\n",
    "polygon_list = [[ul_lon, ul_lat], [lr_lon, ul_lat],[lr_lon, lr_lat],[ul_lon, lr_lat],[ul_lon, ul_lat]]\n",
    "\n",
    "wrs_query = 'http://api.remotepixel.ca/wrs2tiles?search=poly:'+str(polygon_list)"
   ]
  },
  {
   "cell_type": "code",
   "execution_count": null,
   "metadata": {
    "collapsed": false,
    "extensions": {
     "jupyter_dashboards": {
      "version": 1,
      "views": {
       "grid_default": {
        "col": 0,
        "height": 4,
        "hidden": false,
        "row": 40,
        "width": 4
       },
       "report_default": {
        "hidden": true
       }
      }
     }
    }
   },
   "outputs": [],
   "source": [
    "post_query = requests.get(wrs_query)\n",
    "wrs_search_result = json.loads(post_query.text)\n",
    "\n",
    "path_row = []\n",
    "for item in wrs_search_result['results']:\n",
    "    path_row.append(str(item['path'])+\"_\"+str(item['row']))\n",
    "path_row"
   ]
  },
  {
   "cell_type": "code",
   "execution_count": null,
   "metadata": {
    "collapsed": true,
    "extensions": {
     "jupyter_dashboards": {
      "version": 1,
      "views": {
       "grid_default": {
        "hidden": true
       },
       "report_default": {
        "hidden": true
       }
      }
     }
    }
   },
   "outputs": [],
   "source": [
    "tips = sns.load_dataset('tips')"
   ]
  },
  {
   "cell_type": "code",
   "execution_count": null,
   "metadata": {
    "collapsed": false,
    "extensions": {
     "jupyter_dashboards": {
      "version": 1,
      "views": {
       "grid_default": {
        "col": 4,
        "height": 13,
        "hidden": false,
        "row": 47,
        "width": 4
       },
       "report_default": {
        "hidden": false
       }
      }
     }
    }
   },
   "outputs": [],
   "source": [
    "@interact(hue=['smoker','sex', 'time','day'])\n",
    "def plot(hue):\n",
    "    _ = sns.pairplot(tips, hue=hue)"
   ]
  }
 ],
 "metadata": {
  "extensions": {
   "jupyter_dashboards": {
    "activeView": "report_default",
    "version": 1,
    "views": {
     "grid_default": {
      "cellMargin": 10,
      "defaultCellHeight": 20,
      "maxColumns": 12,
      "name": "grid",
      "type": "grid"
     },
     "report_default": {
      "name": "report",
      "type": "report"
     }
    }
   }
  },
  "kernelspec": {
   "display_name": "Python 2",
   "language": "python",
   "name": "python2"
  },
  "language_info": {
   "codemirror_mode": {
    "name": "ipython",
    "version": 2
   },
   "file_extension": ".py",
   "mimetype": "text/x-python",
   "name": "python",
   "nbconvert_exporter": "python",
   "pygments_lexer": "ipython2",
   "version": "2.7.12"
  },
  "widgets": {
   "state": {
    "1a45fccfcf6849e68d213d3330ae7cc1": {
     "views": [
      {
       "cell_index": 9
      }
     ]
    },
    "21d3ee75dce847e980da2ef8956eabb0": {
     "views": [
      {
       "cell_index": 9
      }
     ]
    },
    "4066a15a27394ea1b7fa8419f694112e": {
     "views": [
      {
       "cell_index": 5
      }
     ]
    },
    "4743fe04702f46ee92c35bd270302f34": {
     "views": [
      {
       "cell_index": 9
      }
     ]
    },
    "69e1e2f132f14d33ba77fcc5638638ff": {
     "views": [
      {
       "cell_index": 9
      }
     ]
    },
    "78b2fd50f4cd4a5ea5e8064fb1b78db3": {
     "views": [
      {
       "cell_index": 5
      }
     ]
    },
    "a54eff2dde4b412eb5a7782bb5f2bae1": {
     "views": [
      {
       "cell_index": 10
      },
      {
       "cell_index": 9
      }
     ]
    },
    "f0dbb6a8ee5b4cc798e68bf59ab812ce": {
     "views": [
      {
       "cell_index": 9
      }
     ]
    },
    "f55909972ccc4752aeb1d5ea010c9e94": {
     "views": [
      {
       "cell_index": 5
      }
     ]
    }
   },
   "version": "1.2.0"
  }
 },
 "nbformat": 4,
 "nbformat_minor": 1
}
